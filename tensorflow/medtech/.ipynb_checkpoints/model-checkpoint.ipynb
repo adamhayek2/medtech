{
 "cells": [
  {
   "cell_type": "code",
   "execution_count": 2,
   "id": "8ad17b35-e42a-4e04-a99f-ec850e0141c2",
   "metadata": {
    "scrolled": true
   },
   "outputs": [
    {
     "name": "stderr",
     "output_type": "stream",
     "text": [
      "C:\\Users\\Lenovo\\AppData\\Local\\Temp\\ipykernel_13436\\2719461471.py:3: DeprecationWarning: 'imghdr' is deprecated and slated for removal in Python 3.13\n",
      "  import imghdr\n"
     ]
    }
   ],
   "source": [
    "import os\n",
    "import cv2\n",
    "import imghdr\n",
    "import tensorflow as tf\n",
    "import numpy as np\n",
    "from tensorflow.keras.models import Sequential\n",
    "from tensorflow.keras.layers import Conv2D, MaxPooling2D, Dense, Flatten"
   ]
  },
  {
   "cell_type": "code",
   "execution_count": 3,
   "id": "4726e908-7a14-4d9d-97d5-f4e9fe558616",
   "metadata": {},
   "outputs": [],
   "source": [
    "gpus = tf.config.experimental.list_physical_devices('GPU')\n",
    "for gpu in gpus:\n",
    "    tf.config.experimental.set_memory_growth(gpu, True)"
   ]
  },
  {
   "cell_type": "code",
   "execution_count": 4,
   "id": "64d728b3-c898-4aca-9872-7ef97f3c67bf",
   "metadata": {},
   "outputs": [],
   "source": [
    "data_dir = 'data'\n",
    "image_exts = ['jpeg', 'jpg', 'bmp', 'png']"
   ]
  },
  {
   "cell_type": "code",
   "execution_count": 5,
   "id": "2d5b3b7c-9ac8-4225-ba39-55c6e12c2882",
   "metadata": {},
   "outputs": [
    {
     "name": "stdout",
     "output_type": "stream",
     "text": [
      "Issue with image data\\bullet\\.ipynb_checkpoints\n"
     ]
    }
   ],
   "source": [
    "for image_class in os.listdir(data_dir):\n",
    "    class_dir = os.path.join(data_dir, image_class)\n",
    "    if os.path.isdir(class_dir):\n",
    "        for image in os.listdir(class_dir):\n",
    "            image_path = os.path.join(class_dir, image)\n",
    "            try:\n",
    "                img = cv2.imread(image_path)\n",
    "                tip = imghdr.what(image_path)\n",
    "                if tip not in image_exts:\n",
    "                    print('Image not in ext list {}'.format(image_path))\n",
    "                    os.remove(image_path)\n",
    "            except Exception as e:\n",
    "                print('Issue with image {}'.format(image_path))"
   ]
  },
  {
   "cell_type": "code",
   "execution_count": 7,
   "id": "60b68f21-5789-403d-a225-4eb8971ae66f",
   "metadata": {},
   "outputs": [
    {
     "name": "stdout",
     "output_type": "stream",
     "text": [
      "Found 389 files belonging to 3 classes.\n"
     ]
    }
   ],
   "source": [
    "data = tf.keras.utils.image_dataset_from_directory(data_dir, image_size=(256, 256), batch_size=32)\n",
    "classes = data"
   ]
  },
  {
   "cell_type": "code",
   "execution_count": 8,
   "id": "4201183b-dde5-42c7-8a9d-b79a9425b6be",
   "metadata": {},
   "outputs": [],
   "source": [
    "num_classes = len(data.class_names)"
   ]
  },
  {
   "cell_type": "code",
   "execution_count": 9,
   "id": "2e31b816-f6d5-4055-b7ba-2e79e230a018",
   "metadata": {},
   "outputs": [],
   "source": [
    "data = data.map(lambda x, y: (x / 255, tf.one_hot(y, num_classes)))"
   ]
  },
  {
   "cell_type": "code",
   "execution_count": 11,
   "id": "5eade74f-e69a-410a-b13a-a10de5afe731",
   "metadata": {},
   "outputs": [],
   "source": [
    "model = Sequential([\n",
    "    Conv2D(16, (3, 3), activation='relu', input_shape=(256, 256, 3)),\n",
    "    MaxPooling2D(),\n",
    "    Conv2D(32, (3, 3), activation='relu'),\n",
    "    MaxPooling2D(),\n",
    "    Conv2D(16, (3, 3), activation='relu'),\n",
    "    MaxPooling2D(),\n",
    "    Flatten(),\n",
    "    Dense(256, activation='relu'),\n",
    "    Dense(num_classes, activation='softmax')\n",
    "])"
   ]
  },
  {
   "cell_type": "code",
   "execution_count": 12,
   "id": "07b932ed-45b9-4888-9998-07c606f2bb73",
   "metadata": {},
   "outputs": [],
   "source": [
    "model.compile(optimizer='adam', loss='categorical_crossentropy', metrics=['accuracy'])"
   ]
  },
  {
   "cell_type": "code",
   "execution_count": 13,
   "id": "6b00f719-a065-4b83-ad35-0a0374ec90e6",
   "metadata": {},
   "outputs": [
    {
     "name": "stdout",
     "output_type": "stream",
     "text": [
      "Model: \"sequential_1\"\n",
      "_________________________________________________________________\n",
      " Layer (type)                Output Shape              Param #   \n",
      "=================================================================\n",
      " conv2d_3 (Conv2D)           (None, 254, 254, 16)      448       \n",
      "                                                                 \n",
      " max_pooling2d_3 (MaxPoolin  (None, 127, 127, 16)      0         \n",
      " g2D)                                                            \n",
      "                                                                 \n",
      " conv2d_4 (Conv2D)           (None, 125, 125, 32)      4640      \n",
      "                                                                 \n",
      " max_pooling2d_4 (MaxPoolin  (None, 62, 62, 32)        0         \n",
      " g2D)                                                            \n",
      "                                                                 \n",
      " conv2d_5 (Conv2D)           (None, 60, 60, 16)        4624      \n",
      "                                                                 \n",
      " max_pooling2d_5 (MaxPoolin  (None, 30, 30, 16)        0         \n",
      " g2D)                                                            \n",
      "                                                                 \n",
      " flatten_1 (Flatten)         (None, 14400)             0         \n",
      "                                                                 \n",
      " dense_2 (Dense)             (None, 256)               3686656   \n",
      "                                                                 \n",
      " dense_3 (Dense)             (None, 3)                 771       \n",
      "                                                                 \n",
      "=================================================================\n",
      "Total params: 3697139 (14.10 MB)\n",
      "Trainable params: 3697139 (14.10 MB)\n",
      "Non-trainable params: 0 (0.00 Byte)\n",
      "_________________________________________________________________\n"
     ]
    }
   ],
   "source": [
    "model.summary()"
   ]
  },
  {
   "cell_type": "code",
   "execution_count": 14,
   "id": "1d0788be-027d-45f5-9b29-60358595cfe0",
   "metadata": {},
   "outputs": [],
   "source": [
    "train_size = int(len(data) * 0.7)\n",
    "val_size = int(len(data) * 0.2) + 1\n",
    "test_size = int(len(data) * 0.1) + 1"
   ]
  },
  {
   "cell_type": "code",
   "execution_count": 15,
   "id": "9e45a041-a9bc-4c01-8bc0-d7ff0cebe209",
   "metadata": {},
   "outputs": [],
   "source": [
    "train = data.take(train_size)\n",
    "val = data.skip(train_size).take(val_size)\n",
    "test = data.skip(train_size + val_size).take(test_size)"
   ]
  },
  {
   "cell_type": "code",
   "execution_count": 16,
   "id": "8f988a4e-6c43-46cd-a608-0e16f895adab",
   "metadata": {},
   "outputs": [],
   "source": [
    "logdir = 'logs'"
   ]
  },
  {
   "cell_type": "code",
   "execution_count": 17,
   "id": "e13f2cf9-86d3-4a9a-97b9-95921df01a28",
   "metadata": {},
   "outputs": [],
   "source": [
    "tensorboard_callback = tf.keras.callbacks.TensorBoard(log_dir=logdir)"
   ]
  },
  {
   "cell_type": "code",
   "execution_count": 18,
   "id": "fa2be92f-2925-40e6-8783-130eaab0ec91",
   "metadata": {},
   "outputs": [
    {
     "name": "stdout",
     "output_type": "stream",
     "text": [
      "Epoch 1/20\n",
      "9/9 [==============================] - 13s 1s/step - loss: 1.1414 - accuracy: 0.3889 - val_loss: 1.0098 - val_accuracy: 0.4688\n",
      "Epoch 2/20\n",
      "9/9 [==============================] - 10s 1s/step - loss: 0.9947 - accuracy: 0.5243 - val_loss: 0.9188 - val_accuracy: 0.5417\n",
      "Epoch 3/20\n",
      "9/9 [==============================] - 11s 1s/step - loss: 0.8523 - accuracy: 0.5833 - val_loss: 0.6782 - val_accuracy: 0.7188\n",
      "Epoch 4/20\n",
      "9/9 [==============================] - 11s 1s/step - loss: 0.7462 - accuracy: 0.6701 - val_loss: 0.6321 - val_accuracy: 0.7812\n",
      "Epoch 5/20\n",
      "9/9 [==============================] - 11s 1s/step - loss: 0.6287 - accuracy: 0.7431 - val_loss: 0.6462 - val_accuracy: 0.6667\n",
      "Epoch 6/20\n",
      "9/9 [==============================] - 11s 1s/step - loss: 0.5248 - accuracy: 0.8056 - val_loss: 0.4386 - val_accuracy: 0.8333\n",
      "Epoch 7/20\n",
      "9/9 [==============================] - 11s 1s/step - loss: 0.4088 - accuracy: 0.8924 - val_loss: 0.1843 - val_accuracy: 0.9479\n",
      "Epoch 8/20\n",
      "9/9 [==============================] - 11s 1s/step - loss: 0.2644 - accuracy: 0.9201 - val_loss: 0.1532 - val_accuracy: 0.9688\n",
      "Epoch 9/20\n",
      "9/9 [==============================] - 11s 1s/step - loss: 0.1781 - accuracy: 0.9479 - val_loss: 0.1159 - val_accuracy: 0.9688\n",
      "Epoch 10/20\n",
      "9/9 [==============================] - 11s 1s/step - loss: 0.1313 - accuracy: 0.9618 - val_loss: 0.1330 - val_accuracy: 0.9583\n",
      "Epoch 11/20\n",
      "9/9 [==============================] - 11s 1s/step - loss: 0.0796 - accuracy: 0.9792 - val_loss: 0.0341 - val_accuracy: 1.0000\n",
      "Epoch 12/20\n",
      "9/9 [==============================] - 12s 1s/step - loss: 0.0548 - accuracy: 0.9896 - val_loss: 0.0239 - val_accuracy: 1.0000\n",
      "Epoch 13/20\n",
      "9/9 [==============================] - 11s 1s/step - loss: 0.0797 - accuracy: 0.9792 - val_loss: 0.0498 - val_accuracy: 1.0000\n",
      "Epoch 14/20\n",
      "9/9 [==============================] - 11s 1s/step - loss: 0.0408 - accuracy: 0.9861 - val_loss: 0.0744 - val_accuracy: 0.9792\n",
      "Epoch 15/20\n",
      "9/9 [==============================] - 11s 1s/step - loss: 0.0408 - accuracy: 0.9896 - val_loss: 0.0203 - val_accuracy: 1.0000\n",
      "Epoch 16/20\n",
      "9/9 [==============================] - 11s 1s/step - loss: 0.0297 - accuracy: 0.9896 - val_loss: 0.0256 - val_accuracy: 0.9896\n",
      "Epoch 17/20\n",
      "9/9 [==============================] - 11s 1s/step - loss: 0.0093 - accuracy: 0.9965 - val_loss: 0.0047 - val_accuracy: 1.0000\n",
      "Epoch 18/20\n",
      "9/9 [==============================] - 11s 1s/step - loss: 0.0182 - accuracy: 0.9931 - val_loss: 0.0195 - val_accuracy: 0.9896\n",
      "Epoch 19/20\n",
      "9/9 [==============================] - 11s 1s/step - loss: 0.0222 - accuracy: 0.9931 - val_loss: 0.0066 - val_accuracy: 1.0000\n",
      "Epoch 20/20\n",
      "9/9 [==============================] - 11s 1s/step - loss: 0.0146 - accuracy: 0.9965 - val_loss: 0.0044 - val_accuracy: 1.0000\n"
     ]
    }
   ],
   "source": [
    "hist = model.fit(train, epochs=20, validation_data=val, callbacks=[tensorboard_callback])"
   ]
  },
  {
   "cell_type": "code",
   "execution_count": 19,
   "id": "e0f9031d-ca08-44e0-84e6-9e14da5ca15f",
   "metadata": {},
   "outputs": [
    {
     "name": "stdout",
     "output_type": "stream",
     "text": [
      "1/1 [==============================] - 2s 2s/step - loss: 0.2299 - accuracy: 0.8000\n",
      "Test loss: 0.229946568608284\n",
      "Test accuracy: 0.800000011920929\n"
     ]
    }
   ],
   "source": [
    "test_metrics = model.evaluate(test)\n",
    "print(\"Test loss:\", test_metrics[0])\n",
    "print(\"Test accuracy:\", test_metrics[1])"
   ]
  },
  {
   "cell_type": "code",
   "execution_count": 20,
   "id": "cc766c21-27f7-4fbe-a12f-7b62fb347fa3",
   "metadata": {},
   "outputs": [],
   "source": [
    "image_path = 'bullettest.jpg'\n",
    "img = cv2.imread(image_path)"
   ]
  },
  {
   "cell_type": "code",
   "execution_count": 21,
   "id": "d9d40f12-63bc-4fdc-a717-cf3c76e4f509",
   "metadata": {},
   "outputs": [],
   "source": [
    "resize = tf.image.resize(img, (256, 256)) / 255.0\n",
    "resize = tf.expand_dims(resize, 0)"
   ]
  },
  {
   "cell_type": "code",
   "execution_count": 22,
   "id": "fac80247-7a32-4bcc-a774-47c9dd499ffd",
   "metadata": {},
   "outputs": [
    {
     "name": "stdout",
     "output_type": "stream",
     "text": [
      "1/1 [==============================] - 0s 170ms/step\n"
     ]
    }
   ],
   "source": [
    "predictions = model.predict(resize)"
   ]
  },
  {
   "cell_type": "code",
   "execution_count": 23,
   "id": "2602d599-c07d-4bfb-9249-c8638b1e0eff",
   "metadata": {},
   "outputs": [],
   "source": [
    "predicted_class_index = tf.argmax(predictions, axis=1)[0]"
   ]
  },
  {
   "cell_type": "code",
   "execution_count": 24,
   "id": "ea7b174a-0bb9-4a95-a200-1cb9254b3548",
   "metadata": {},
   "outputs": [],
   "source": [
    "class_names = classes.class_names"
   ]
  },
  {
   "cell_type": "code",
   "execution_count": 25,
   "id": "cb6b8197-2dce-4c2a-b06a-1acf0c9b4e4a",
   "metadata": {},
   "outputs": [],
   "source": [
    "predicted_class_name = class_names[predicted_class_index]"
   ]
  },
  {
   "cell_type": "code",
   "execution_count": 26,
   "id": "231e7cf2-f1e4-4f01-9a58-a29ee8c74898",
   "metadata": {},
   "outputs": [
    {
     "name": "stdout",
     "output_type": "stream",
     "text": [
      "Predicted class: bullet\n"
     ]
    }
   ],
   "source": [
    "print(f\"Predicted class: {predicted_class_name}\")"
   ]
  },
  {
   "cell_type": "code",
   "execution_count": null,
   "id": "a609c7cb-3929-4954-b22b-e0d25850e045",
   "metadata": {},
   "outputs": [],
   "source": []
  }
 ],
 "metadata": {
  "kernelspec": {
   "display_name": "Python 3 (ipykernel)",
   "language": "python",
   "name": "python3"
  },
  "language_info": {
   "codemirror_mode": {
    "name": "ipython",
    "version": 3
   },
   "file_extension": ".py",
   "mimetype": "text/x-python",
   "name": "python",
   "nbconvert_exporter": "python",
   "pygments_lexer": "ipython3",
   "version": "3.11.5"
  }
 },
 "nbformat": 4,
 "nbformat_minor": 5
}
